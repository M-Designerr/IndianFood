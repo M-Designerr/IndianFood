{
 "cells": [
  {
   "cell_type": "code",
   "execution_count": 50,
   "metadata": {},
   "outputs": [
    {
     "name": "stdout",
     "output_type": "stream",
     "text": [
      "{'35': 1, '36': 0, '37': 0, '38': 0, '39': 0, '40': 0, '41': 0, '42': 1}\n",
      "{'5': 1, '6': 1, '7': 1, '8': 1, '9': 1, '10': 1, '11': 1}\n",
      "Possible\n"
     ]
    }
   ],
   "source": [
    "import pandas as pd\n",
    "\n",
    "def saleOrder(df):\n",
    "    # Create a dictionary to keep track of goods received and sold for each date and size\n",
    "    goods_count = {}\n",
    "    \n",
    "    # Iterate through the DataFrame rows\n",
    "    for index, row in df.iterrows():\n",
    "        date = row['date_added']\n",
    "        size_list = row['sizes'].split('/')\n",
    "        order_type = row['type']\n",
    "        \n",
    "        # Initialize the goods_count dictionary for the date if it doesn't exist\n",
    "        if date not in goods_count:\n",
    "            goods_count[date] = {}\n",
    "        \n",
    "        # Update the goods_count dictionary based on the order type\n",
    "        for size in size_list:\n",
    "            if size not in goods_count[date]:\n",
    "                goods_count[date][size] = 0\n",
    "            if order_type == 'Received':\n",
    "                goods_count[date][size] += 1\n",
    "            elif order_type == 'Sold':\n",
    "                goods_count[date][size] -= 1\n",
    "    \n",
    "    # Check if for each date and size, goods received >= goods sold\n",
    "    for date, size_data in goods_count.items():\n",
    "        print(size_data)\n",
    "        for size, count in size_data.items():\n",
    "            if count < 0:\n",
    "                return \"Not Possible\"\n",
    "    \n",
    "    return \"Possible\"\n",
    "\n",
    "# Example usage:\n",
    "data = {\n",
    "    'id': [5763, 5731, 9159,8804],\n",
    "    'date_added': ['2015-08', '2015-08', '2015-08','2017-11'],\n",
    "    'type': ['Received', 'Sold', 'Received', 'Received'],\n",
    "    'sizes': ['35/36/37/38/39/40', '36/37/38/39/40/41', '41/42','5/6/7/8/9/10/11'],\n",
    "}\n",
    "\n",
    "df = pd.DataFrame(data)\n",
    "result = saleOrder(df)\n",
    "print(result)  # Output should be \"Possible\"\n"
   ]
  }
 ],
 "metadata": {
  "kernelspec": {
   "display_name": ".venv",
   "language": "python",
   "name": "python3"
  },
  "language_info": {
   "codemirror_mode": {
    "name": "ipython",
    "version": 3
   },
   "file_extension": ".py",
   "mimetype": "text/x-python",
   "name": "python",
   "nbconvert_exporter": "python",
   "pygments_lexer": "ipython3",
   "version": "3.11.4"
  }
 },
 "nbformat": 4,
 "nbformat_minor": 2
}
